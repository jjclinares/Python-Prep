{
  "nbformat": 4,
  "nbformat_minor": 0,
  "metadata": {
    "colab": {
      "provenance": [],
      "authorship_tag": "ABX9TyMQbiADXM1YrHuZ0p3oOeCU",
      "include_colab_link": true
    },
    "kernelspec": {
      "name": "python3",
      "display_name": "Python 3"
    },
    "language_info": {
      "name": "python"
    }
  },
  "cells": [
    {
      "cell_type": "markdown",
      "metadata": {
        "id": "view-in-github",
        "colab_type": "text"
      },
      "source": [
        "<a href=\"https://colab.research.google.com/github/jjclinares/Python-Prep/blob/main/Modulo2-Mintic%20Curso%20Ciencia%20de%20datos.ipynb\" target=\"_parent\"><img src=\"https://colab.research.google.com/assets/colab-badge.svg\" alt=\"Open In Colab\"/></a>"
      ]
    },
    {
      "cell_type": "markdown",
      "source": [
        "*ejemplo modulo 2*"
      ],
      "metadata": {
        "id": "iWsZVe-ku_dV"
      }
    },
    {
      "cell_type": "code",
      "execution_count": 1,
      "metadata": {
        "id": "pr56ybkSuxns"
      },
      "outputs": [],
      "source": [
        "import pandas as pd"
      ]
    },
    {
      "cell_type": "code",
      "source": [
        "df = pd.read_csv('filename.csv',',')"
      ],
      "metadata": {
        "id": "H6o6EWOSu9WL"
      },
      "execution_count": null,
      "outputs": []
    },
    {
      "cell_type": "code",
      "source": [
        "df.head()"
      ],
      "metadata": {
        "id": "bczkYeyJvguk"
      },
      "execution_count": null,
      "outputs": []
    },
    {
      "cell_type": "code",
      "source": [
        "df.tall"
      ],
      "metadata": {
        "id": "qJTMOhipvjl7"
      },
      "execution_count": null,
      "outputs": []
    },
    {
      "cell_type": "code",
      "source": [
        "df.describe()"
      ],
      "metadata": {
        "id": "IA2qwwImvoFd"
      },
      "execution_count": null,
      "outputs": []
    },
    {
      "cell_type": "code",
      "source": [
        "type.df()"
      ],
      "metadata": {
        "id": "ryUNWQoiwD4d"
      },
      "execution_count": null,
      "outputs": []
    },
    {
      "cell_type": "code",
      "source": [
        "df.shape()"
      ],
      "metadata": {
        "id": "l1iwox_xwG0a"
      },
      "execution_count": null,
      "outputs": []
    },
    {
      "cell_type": "code",
      "source": [
        "df.columns()"
      ],
      "metadata": {
        "id": "V4FuxGJtwJs2"
      },
      "execution_count": null,
      "outputs": []
    },
    {
      "cell_type": "code",
      "source": [
        "df.dtypes()"
      ],
      "metadata": {
        "id": "Bu42LsyxwO8v"
      },
      "execution_count": null,
      "outputs": []
    },
    {
      "cell_type": "code",
      "source": [
        "price-df['price']"
      ],
      "metadata": {
        "id": "HbRjXhd_wZdH"
      },
      "execution_count": null,
      "outputs": []
    },
    {
      "cell_type": "code",
      "source": [
        "price.hist()"
      ],
      "metadata": {
        "id": "U64tpxIXwtQ3"
      },
      "execution_count": null,
      "outputs": []
    },
    {
      "cell_type": "code",
      "source": [
        "price.head()"
      ],
      "metadata": {
        "id": "C3CWKoWZwzBX"
      },
      "execution_count": null,
      "outputs": []
    },
    {
      "cell_type": "code",
      "source": [
        "data-df[['price','bedrooms']]"
      ],
      "metadata": {
        "id": "3rR4eC-kxHWQ"
      },
      "execution_count": null,
      "outputs": []
    },
    {
      "cell_type": "markdown",
      "source": [
        "segmentador de los datos .iloc"
      ],
      "metadata": {
        "id": "Otl5K324xTVO"
      }
    },
    {
      "cell_type": "code",
      "source": [
        "df.iloc()"
      ],
      "metadata": {
        "id": "UNhGfvoVw-9x"
      },
      "execution_count": null,
      "outputs": []
    },
    {
      "cell_type": "code",
      "source": [
        "df.groupby('bedrooms')['price'].mean()"
      ],
      "metadata": {
        "id": "3suc4rElxdg9"
      },
      "execution_count": null,
      "outputs": []
    },
    {
      "cell_type": "code",
      "source": [
        "df.groupby('bedrooms')['price'].mean().plot()"
      ],
      "metadata": {
        "id": "qoGppeRFxubB"
      },
      "execution_count": null,
      "outputs": []
    },
    {
      "cell_type": "code",
      "source": [
        "import seaborn as sms\n",
        "import matplotlib.pyplot as plt\n",
        "corr_df -df.corr(method-'pearson')\n",
        "plt.figure(figssize=(15,15))\n",
        "sms.heatmap(corr_df, annot=True)\n",
        "plt.show()"
      ],
      "metadata": {
        "id": "i55T4JNeyBbK"
      },
      "execution_count": null,
      "outputs": []
    },
    {
      "cell_type": "code",
      "source": [
        "df.isnull()"
      ],
      "metadata": {
        "id": "xS_g9YZez6RY"
      },
      "execution_count": null,
      "outputs": []
    },
    {
      "cell_type": "code",
      "source": [
        "df.isnull().sum()"
      ],
      "metadata": {
        "id": "gpHkkuiHz8w4"
      },
      "execution_count": null,
      "outputs": []
    },
    {
      "cell_type": "code",
      "source": [
        "df['price'].isnull()"
      ],
      "metadata": {
        "id": "VxKPdBAX0CmC"
      },
      "execution_count": null,
      "outputs": []
    },
    {
      "cell_type": "code",
      "source": [
        "df.fillna(0)"
      ],
      "metadata": {
        "id": "3b0Uahtu0Pju"
      },
      "execution_count": null,
      "outputs": []
    },
    {
      "cell_type": "code",
      "source": [
        "y = df['price'].values"
      ],
      "metadata": {
        "id": "Up1oFVh40YZM"
      },
      "execution_count": null,
      "outputs": []
    }
  ]
}
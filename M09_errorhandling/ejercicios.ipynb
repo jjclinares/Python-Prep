{
 "cells": [
  {
   "cell_type": "code",
   "execution_count": 4,
   "metadata": {},
   "outputs": [],
   "source": [
    "import unittest"
   ]
  },
  {
   "cell_type": "code",
   "execution_count": null,
   "metadata": {},
   "outputs": [],
   "source": [
    "### Pruebas de caja negra"
   ]
  },
  {
   "cell_type": "code",
   "execution_count": 10,
   "metadata": {},
   "outputs": [
    {
     "name": "stderr",
     "output_type": "stream",
     "text": [
      "test_suma_dos_negativos (__main__.CajaNegraTest.test_suma_dos_negativos) ... ok\n",
      "test_suma_dos_positivos (__main__.CajaNegraTest.test_suma_dos_positivos) ... ok\n",
      "test_es_mayor_de_edad (__main__.PruebaDeCristalTest.test_es_mayor_de_edad) ... ERROR\n",
      "test_es_menor_de_edad (__main__.PruebaDeCristalTest.test_es_menor_de_edad) ... ERROR\n",
      "\n",
      "======================================================================\n",
      "ERROR: test_es_mayor_de_edad (__main__.PruebaDeCristalTest.test_es_mayor_de_edad)\n",
      "----------------------------------------------------------------------\n",
      "Traceback (most recent call last):\n",
      "  File \"C:\\Users\\jj_ja\\AppData\\Local\\Temp\\ipykernel_18260\\3469188623.py\", line 6, in test_es_mayor_de_edad\n",
      "    resultado = es_mayor_de_edad(edad)\n",
      "                ^^^^^^^^^^^^^^^^\n",
      "NameError: name 'es_mayor_de_edad' is not defined\n",
      "\n",
      "======================================================================\n",
      "ERROR: test_es_menor_de_edad (__main__.PruebaDeCristalTest.test_es_menor_de_edad)\n",
      "----------------------------------------------------------------------\n",
      "Traceback (most recent call last):\n",
      "  File \"C:\\Users\\jj_ja\\AppData\\Local\\Temp\\ipykernel_18260\\3469188623.py\", line 13, in test_es_menor_de_edad\n",
      "    resultado = es_mayor_de_edad(edad)\n",
      "                ^^^^^^^^^^^^^^^^\n",
      "NameError: name 'es_mayor_de_edad' is not defined\n",
      "\n",
      "----------------------------------------------------------------------\n",
      "Ran 4 tests in 0.007s\n",
      "\n",
      "FAILED (errors=2)\n"
     ]
    },
    {
     "data": {
      "text/plain": [
       "<unittest.main.TestProgram at 0x1d9675a1210>"
      ]
     },
     "execution_count": 10,
     "metadata": {},
     "output_type": "execute_result"
    }
   ],
   "source": [
    ">>> import unittest\n",
    ">>>\n",
    ">>> def suma(num_1, num_2):\n",
    ">>>     return num_1 + num_2\n",
    ">>>\n",
    ">>> class CajaNegraTest(unittest.TestCase):\n",
    ">>> \n",
    ">>>     def test_suma_dos_positivos(self):\n",
    ">>>         num_1 = 10\n",
    ">>>         num_2 = 5\n",
    ">>> \n",
    ">>>         resultado = suma(num_1, num_2)\n",
    ">>> \n",
    ">>>         self.assertEqual(resultado, 15)\n",
    ">>> \n",
    ">>>     def test_suma_dos_negativos(self):\n",
    ">>>         num_1 = -10\n",
    ">>>         num_2 = -7\n",
    ">>> \n",
    ">>>         resultado = suma(num_1, num_2)\n",
    ">>> \n",
    ">>>         self.assertEqual(resultado, -17)\n",
    ">>>\n",
    ">>> unittest.main(argv=[''], verbosity=2, exit=False)"
   ]
  },
  {
   "cell_type": "code",
   "execution_count": null,
   "metadata": {},
   "outputs": [],
   "source": [
    "### Pruebas de caja de cristal"
   ]
  },
  {
   "cell_type": "code",
   "execution_count": 15,
   "metadata": {},
   "outputs": [
    {
     "name": "stderr",
     "output_type": "stream",
     "text": [
      "test_suma_dos_negativos (__main__.CajaNegraTest.test_suma_dos_negativos) ... ok\n",
      "test_suma_dos_positivos (__main__.CajaNegraTest.test_suma_dos_positivos) ... ok\n",
      "test_es_mayor_de_edad (__main__.PruebaDeCristalTest.test_es_mayor_de_edad) ... ok\n",
      "test_es_menor_de_edad (__main__.PruebaDeCristalTest.test_es_menor_de_edad) ... ok\n",
      "\n",
      "----------------------------------------------------------------------\n",
      "Ran 4 tests in 0.006s\n",
      "\n",
      "OK\n"
     ]
    },
    {
     "data": {
      "text/plain": [
       "<unittest.main.TestProgram at 0x1d9675b3150>"
      ]
     },
     "execution_count": 15,
     "metadata": {},
     "output_type": "execute_result"
    }
   ],
   "source": [
    ">>> import unittest\n",
    "\n",
    ">>> def es_mayor_de_edad(edad):\n",
    ">>>     if edad >= 18:\n",
    ">>>         return True\n",
    ">>>     else:\n",
    ">>>         return False\n",
    "\n",
    ">>> class PruebaDeCristalTest(unittest.TestCase):\n",
    ">>> \n",
    ">>>     def test_es_mayor_de_edad(self):\n",
    ">>>         edad = 20\n",
    ">>> \n",
    ">>>         resultado = es_mayor_de_edad(edad)\n",
    ">>> \n",
    ">>>         self.assertEqual(resultado, True)\n",
    ">>> \n",
    ">>>     def test_es_menor_de_edad(self):\n",
    ">>>         edad = 15\n",
    ">>> \n",
    ">>>         resultado = es_mayor_de_edad(edad)\n",
    ">>> \n",
    ">>>         self.assertEqual(resultado, False)\n",
    "\n",
    ">>> unittest.main(argv=[''], verbosity=2, exit=False)"
   ]
  },
  {
   "cell_type": "code",
   "execution_count": null,
   "metadata": {},
   "outputs": [],
   "source": [
    "###Manwejo de e3xcepciones"
   ]
  },
  {
   "cell_type": "code",
   "execution_count": 19,
   "metadata": {},
   "outputs": [
    {
     "name": "stdout",
     "output_type": "stream",
     "text": [
      "division by zero\n",
      "[0, 1, 2, 3, 4, 5, 6, 7, 8, 9]\n",
      "[0.0, 0.3333333333333333, 0.6666666666666666, 1.0, 1.3333333333333333, 1.6666666666666667, 2.0, 2.3333333333333335, 2.6666666666666665, 3.0]\n"
     ]
    }
   ],
   "source": [
    ">>> def divide_elementos_de_lista(lista, divisor):\n",
    ">>>     '''\n",
    ">>>     Cada elemento de una lista es dividida por un divisor definido.\n",
    ">>>     En caso de error de tipo ZeroDivisionError que\n",
    ">>>     significa error al dividir en cero\n",
    ">>>     la función devuelve la lista inicial\n",
    ">>>     '''\n",
    ">>>     try:\n",
    ">>>         return [i / divisor for i in lista]\n",
    ">>>     \n",
    ">>>     except ZeroDivisionError as e:\n",
    ">>>         print(e)\n",
    ">>>         return lista\n",
    ">>> \n",
    ">>> lista = list(range(10))\n",
    ">>> divisor = 0\n",
    ">>> \n",
    ">>> print(divide_elementos_de_lista(lista, divisor))\n",
    "### division by zero\n",
    "[0, 1, 2, 3, 4, 5, 6, 7, 8, 9]\n",
    ">>> divisor = 3\n",
    ">>> print(divide_elementos_de_lista(lista, divisor))"
   ]
  },
  {
   "cell_type": "code",
   "execution_count": 21,
   "metadata": {},
   "outputs": [],
   "source": [
    "def divide_elementos_de_lista(lista, divisor):\n",
    "    '''\n",
    "    Cada elemento de una lista es dividida por un divisor definido.\n",
    "    En caso de error de tipo ZeroDivisionError que\n",
    "    significa error al dividir en cero\n",
    "    la función devuelve la lista inicial\n",
    "    '''\n",
    "\n",
    "    try:\n",
    "        return [i / divisor for i in lista]\n",
    "\n",
    "    except ZeroDivisionError as e:\n",
    "        print(e)\n",
    "        return lista"
   ]
  },
  {
   "cell_type": "code",
   "execution_count": null,
   "metadata": {},
   "outputs": [],
   "source": [
    "### Excepciones y control de flujo"
   ]
  },
  {
   "cell_type": "code",
   "execution_count": 27,
   "metadata": {},
   "outputs": [],
   "source": [
    "def dividir(num1, num2):\n",
    "    try:\n",
    "        resultado = num1 / num2\n",
    "        return resultado\n",
    "    except ZeroDivisionError:\n",
    "        print(\"No se puede dividir por cero.\")\n",
    "        return None"
   ]
  },
  {
   "cell_type": "code",
   "execution_count": 28,
   "metadata": {},
   "outputs": [
    {
     "name": "stdout",
     "output_type": "stream",
     "text": [
      "El archivo no existe.\n"
     ]
    }
   ],
   "source": [
    "try:\n",
    "    with open(\"archivo.txt\", \"r\") as f:\n",
    "        contenido = f.read()\n",
    "except FileNotFoundError:\n",
    "    print(\"El archivo no existe.\")"
   ]
  },
  {
   "cell_type": "code",
   "execution_count": 29,
   "metadata": {},
   "outputs": [],
   "source": [
    "def primera_letra(lista_de_palabras):\n",
    "  primeras_letras = []\n",
    "\n",
    "  for palabra in lista_de_palabras:\n",
    "    assert type(palabra) == str, f'{palabra} no es str'\n",
    "    assert len(palabra) > 0, 'No se permiten str vacíos'\n",
    "\n",
    "    primeras_letras.append(palabra[0])\n",
    "  return primeras_letras"
   ]
  }
 ],
 "metadata": {
  "kernelspec": {
   "display_name": "Python 3",
   "language": "python",
   "name": "python3"
  },
  "language_info": {
   "codemirror_mode": {
    "name": "ipython",
    "version": 3
   },
   "file_extension": ".py",
   "mimetype": "text/x-python",
   "name": "python",
   "nbconvert_exporter": "python",
   "pygments_lexer": "ipython3",
   "version": "3.11.8"
  }
 },
 "nbformat": 4,
 "nbformat_minor": 2
}

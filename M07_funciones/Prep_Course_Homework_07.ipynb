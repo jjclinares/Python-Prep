{
 "cells": [
  {
   "attachments": {},
   "cell_type": "markdown",
   "metadata": {},
   "source": [
    "## Funciones"
   ]
  },
  {
   "attachments": {},
   "cell_type": "markdown",
   "metadata": {},
   "source": [
    "1) Crear una función que reciba un número como parámetro y devuelva True si es primo y False si no lo es"
   ]
  },
  {
   "cell_type": "code",
   "execution_count": 90,
   "metadata": {},
   "outputs": [],
   "source": [
    "def es_numero_Primo(numero1):\n",
    "    for i in range(2,int((numero1+2)/2)):\n",
    "        if numero1 % i == 0:\n",
    "            return False\n",
    "    return True"
   ]
  },
  {
   "cell_type": "code",
   "execution_count": 91,
   "metadata": {},
   "outputs": [
    {
     "data": {
      "text/plain": [
       "False"
      ]
     },
     "execution_count": 91,
     "metadata": {},
     "output_type": "execute_result"
    }
   ],
   "source": [
    "es_numero_Primo(4)"
   ]
  },
  {
   "cell_type": "code",
   "execution_count": 92,
   "metadata": {},
   "outputs": [],
   "source": [
    "#otra opción de solución es:\n",
    "def verificar_primo(numero):\n",
    "    es_primo =True\n",
    "    for i in range(2,numero):\n",
    "        if numero % i == 0:\n",
    "            es_primo =False\n",
    "            break\n",
    "    return es_primo"
   ]
  },
  {
   "cell_type": "code",
   "execution_count": 93,
   "metadata": {},
   "outputs": [
    {
     "data": {
      "text/plain": [
       "True"
      ]
     },
     "execution_count": 93,
     "metadata": {},
     "output_type": "execute_result"
    }
   ],
   "source": [
    "verificar_primo(1)"
   ]
  },
  {
   "attachments": {},
   "cell_type": "markdown",
   "metadata": {},
   "source": [
    "2) Utilizando la función del punto 1, realizar otra función que reciba de parámetro una lista de números y devuelva sólo aquellos que son primos en otra lista"
   ]
  },
  {
   "cell_type": "code",
   "execution_count": 94,
   "metadata": {},
   "outputs": [],
   "source": [
    "def extrae_primos(lista):\n",
    "    lista_extraida_de_primos=[]\n",
    "    for numero in lista:\n",
    "        if es_numero_Primo(int(numero)):\n",
    "            lista_extraida_de_primos.append(numero)\n",
    "    return lista_extraida_de_primos"
   ]
  },
  {
   "cell_type": "code",
   "execution_count": 96,
   "metadata": {},
   "outputs": [
    {
     "data": {
      "text/plain": [
       "[2, 3, 5, 7, 11, 13, 17, 19]"
      ]
     },
     "execution_count": 96,
     "metadata": {},
     "output_type": "execute_result"
    }
   ],
   "source": [
    "lis_completa = list(range(2,21))\n",
    "lis_primos=extrae_primos(lis_completa)\n",
    "lis_primos"
   ]
  },
  {
   "attachments": {},
   "cell_type": "markdown",
   "metadata": {},
   "source": [
    "3) Crear una función que al recibir una lista de números, devuelva el que más se repite y cuántas veces lo hace. Si hay más de un \"más repetido\", que devuelva cualquiera"
   ]
  },
  {
   "cell_type": "code",
   "execution_count": 100,
   "metadata": {},
   "outputs": [],
   "source": [
    "import collections"
   ]
  },
  {
   "cell_type": "code",
   "execution_count": 113,
   "metadata": {},
   "outputs": [],
   "source": [
    "#opcion 1\n",
    "def moda(lista):\n",
    "    frecuencia = {}\n",
    "    for n in lista:\n",
    "        if n in frecuencia:\n",
    "            frecuencia[n]+=1\n",
    "        else:\n",
    "            frecuencia[n]=1\n",
    "    max_repeticiones = max( frecuencia.values())\n",
    "    mas_repetidos =[n for n ,repeticiones in frecuencia.items() if repeticiones == max_repeticiones]\n",
    "    return mas_repetidos[0],max_repeticiones\n"
   ]
  },
  {
   "cell_type": "code",
   "execution_count": 117,
   "metadata": {},
   "outputs": [
    {
     "data": {
      "text/plain": [
       "(2, 4)"
      ]
     },
     "execution_count": 117,
     "metadata": {},
     "output_type": "execute_result"
    }
   ],
   "source": [
    "lista=(1,2,2,2,2)\n",
    "moda(lista)"
   ]
  },
  {
   "cell_type": "code",
   "execution_count": 119,
   "metadata": {},
   "outputs": [],
   "source": [
    "#Opci+on 2\n",
    "def valor_modal(lista):\n",
    "    lista_unicos = []  # Lista para almacenar los elementos únicos de la lista\n",
    "    lista_repeticiones = []  # Lista para almacenar las repeticiones de cada elemento único\n",
    "    if len(lista) == 0:  # Verificación si la lista está vacía\n",
    "        return None  # Si la lista está vacía, se devuelve None\n",
    "    for elemento in lista:  # Iteración sobre cada elemento de la lista\n",
    "        if elemento in lista_unicos:  # Verificación si el elemento ya está en la lista de únicos\n",
    "            i = lista_unicos.index(elemento)  # Se obtiene el índice del elemento en la lista de únicos\n",
    "            lista_repeticiones[i] += 1  # Se incrementa el contador de repeticiones para ese elemento\n",
    "        else:\n",
    "            lista_unicos.append(elemento)  # Si es un elemento único, se agrega a la lista de únicos\n",
    "            lista_repeticiones.append(1)  # Se inicializa el contador de repeticiones para ese elemento en 1\n",
    "    moda = lista_unicos[0]  # Se asume que el primer elemento de la lista de únicos es la moda inicialmente\n",
    "    maximo = lista_repeticiones[0]  # Se asume que el primer contador de repeticiones es el máximo inicialmente\n",
    "    for i, elemento in enumerate(lista_unicos):  # Iteración sobre cada elemento único y su índice\n",
    "        if lista_repeticiones[i] > maximo:  # Verificación si el contador de repeticiones es mayor al máximo actual\n",
    "            moda = lista_unicos[i]  # Se actualiza la moda con el nuevo elemento con más repeticiones\n",
    "            maximo = lista_repeticiones[i]  # Se actualiza el máximo con el nuevo contador de repeticiones mayor\n",
    "    return moda, maximo  # Se devuelve la moda y el máximo de repeticiones como una tupla"
   ]
  },
  {
   "attachments": {},
   "cell_type": "markdown",
   "metadata": {},
   "source": [
    "4) Crear una función que convierta entre grados Celsius, Farenheit y Kelvin<br>\n",
    "Fórmula 1\t: (°C × 9/5) + 32 = °F<br>\n",
    "Fórmula 2\t: °C + 273.15 = °K<br>\n",
    "Debe recibir 3 parámetros: el valor, la medida de orígen y la medida de destino\n"
   ]
  },
  {
   "cell_type": "code",
   "execution_count": 145,
   "metadata": {},
   "outputs": [],
   "source": [
    "def Conversión_de_grados(Valor,Origen,destino):\n",
    "    # Función que realiza la conversión de grados entre diferentes unidades\n",
    "    # Parámetros:\n",
    "    # - valor: el valor numérico a convertir\n",
    "    # - origen: la unidad de origen (celsius, farenheit, kelvin)\n",
    "    # - destino: la unidad de destino (celsius, farenheit, kelvin)\n",
    "    if Origen == \"Celsius\":\n",
    "        if destino == \"Celsius\":\n",
    "            valor_destino = Valor\n",
    "        elif destino == \"Farenheit\":\n",
    "            valor_destino = (Valor * 9/5)+ 32\n",
    "        elif destino == \"Kelvin\":\n",
    "            valor_destino = (Valor + 273.15)\n",
    "        else:\n",
    "            print('Parámetro de Destino incorrecto')\n",
    "    elif Origen == \"Farenheit\":\n",
    "        if destino == \"Celsius\":\n",
    "            valor_destino = (Valor - 32)* 5/9\n",
    "            #Despejamos (°C × 9/5) + 32 = °F\n",
    "            # C * 9/5 F - 32\n",
    "            # C =(F - 32)* 5/9\n",
    "        elif destino == \"Farenheit\":\n",
    "            valor_destino = Valor \n",
    "        elif destino == \"Kelvin\":\n",
    "            valor_destino = ((Valor -32)* 5/9) +273.15\n",
    "            #Despejamos C + 273.15 =K\n",
    "            #C= K - 273.15\n",
    "            #(F - 32)* 5/9 = K -273.15\n",
    "            #(F -32)* 5/9) +273.15\n",
    "        else:\n",
    "            print('Parámetro de Destino incorrecto')\n",
    "    elif Origen == \"Kelvin\":\n",
    "        if destino == \"Celsius\":\n",
    "            valor_destino = Valor -273.15\n",
    "            #Despejamos C + 273.15 =K\n",
    "            #C= K - 273.15\n",
    "        elif destino == \"Farenheit\":\n",
    "            valor_destino = ((Valor - 273.15)*9/5)+32 \n",
    "            #(F - 32)* 5/9 = K -273.15\n",
    "            # F - 32 = (K - 273.15) 9/5\n",
    "            # F =((K - 273.15)*9/5)+32\n",
    "        elif destino == \"Kelvin\":\n",
    "            valor_destino = Valor\n",
    "        else:\n",
    "            print('Parámetro de Destino incorrecto')\n",
    "    else:\n",
    "        print(f\"El dato proporcionado no es una medida de Temperatura valida\")\n",
    "    return(valor_destino)"
   ]
  },
  {
   "cell_type": "code",
   "execution_count": 146,
   "metadata": {},
   "outputs": [
    {
     "name": "stdout",
     "output_type": "stream",
     "text": [
      "1 grado Celsius a Celsius: 1\n",
      "1 grado Celsius a Kelvin: 274.15\n",
      "1 grado Celsius a Farenheit: 33.8\n",
      "1 grado Kelvin a Celsius: -272.15\n",
      "1 grado Kelvin a Kelvin: 1\n",
      "1 grado Kelvin a Farenheit: -457.87\n",
      "1 grado Farenheit a Celsius: -17.22222222222222\n",
      "1 grado Farenheit a Kelvin: 255.92777777777775\n",
      "1 grado Farenheit a Farenheit: 1\n"
     ]
    }
   ],
   "source": [
    "print('1 grado Celsius a Celsius:', Conversión_de_grados(1, \"Celsius\", \"Celsius\"))\n",
    "print('1 grado Celsius a Kelvin:', Conversión_de_grados(1, 'Celsius', \"Kelvin\"))\n",
    "print('1 grado Celsius a Farenheit:', Conversión_de_grados(1, 'Celsius', \"Farenheit\"))\n",
    "print('1 grado Kelvin a Celsius:', Conversión_de_grados(1, \"Kelvin\", 'Celsius'))\n",
    "print('1 grado Kelvin a Kelvin:', Conversión_de_grados(1, \"Kelvin\", \"Kelvin\"))\n",
    "print('1 grado Kelvin a Farenheit:', Conversión_de_grados(1, \"Kelvin\", \"Farenheit\"))\n",
    "print('1 grado Farenheit a Celsius:', Conversión_de_grados(1, \"Farenheit\", 'Celsius'))\n",
    "print('1 grado Farenheit a Kelvin:', Conversión_de_grados(1, \"Farenheit\", \"Kelvin\"))\n",
    "print('1 grado Farenheit a Farenheit:', Conversión_de_grados(1, \"Farenheit\", \"Farenheit\"))\n"
   ]
  },
  {
   "attachments": {},
   "cell_type": "markdown",
   "metadata": {},
   "source": [
    "5) Iterando una lista con los tres valores posibles de temperatura que recibe la función del punto 5, hacer un print para cada combinación de los mismos:"
   ]
  },
  {
   "cell_type": "code",
   "execution_count": 147,
   "metadata": {},
   "outputs": [
    {
     "name": "stdout",
     "output_type": "stream",
     "text": [
      "1 grado de Celsius, a Celsius ,es igual a 1\n",
      "1 grado de Celsius, a Farenheit ,es igual a 33.8\n",
      "1 grado de Celsius, a Kelvin ,es igual a 274.15\n",
      "1 grado de Farenheit, a Celsius ,es igual a -17.22222222222222\n",
      "1 grado de Farenheit, a Farenheit ,es igual a 1\n",
      "1 grado de Farenheit, a Kelvin ,es igual a 255.92777777777775\n",
      "1 grado de Kelvin, a Celsius ,es igual a -272.15\n",
      "1 grado de Kelvin, a Farenheit ,es igual a -457.87\n",
      "1 grado de Kelvin, a Kelvin ,es igual a 1\n"
     ]
    }
   ],
   "source": [
    "metricas =[\"Celsius\",\"Farenheit\",\"Kelvin\"]\n",
    "for i in range(len(metricas)):  #origen\n",
    "    for j in range(len(metricas)): #destino\n",
    "        valor_final = Conversión_de_grados(1,metricas[i],metricas[j])\n",
    "        print(f\"1 grado de {metricas[i]}, a {metricas[j]} ,es igual a {valor_final}\")"
   ]
  },
  {
   "attachments": {},
   "cell_type": "markdown",
   "metadata": {},
   "source": [
    "6) Armar una función que devuelva el factorial de un número. Tener en cuenta que el usuario puede equivocarse y enviar de parámetro un número no entero o negativo"
   ]
  },
  {
   "cell_type": "code",
   "execution_count": 163,
   "metadata": {},
   "outputs": [],
   "source": [
    "def factorial(numero):\n",
    "    if type(numero) != int or numero < 0:\n",
    "        return \"El valor introducido no es valido\"\n",
    "    elif numero == 0:\n",
    "        return 1\n",
    "    numero = numero * factorial(numero - 1)\n",
    "    return numero"
   ]
  },
  {
   "cell_type": "code",
   "execution_count": 164,
   "metadata": {},
   "outputs": [
    {
     "data": {
      "text/plain": [
       "120"
      ]
     },
     "execution_count": 164,
     "metadata": {},
     "output_type": "execute_result"
    }
   ],
   "source": [
    "factorial(5)"
   ]
  }
 ],
 "metadata": {
  "interpreter": {
   "hash": "c85384e4cb51c8b72350f3a8712cc8351fdc3955e32a27f9b60c6242ab125f01"
  },
  "kernelspec": {
   "display_name": "Python 3 (ipykernel)",
   "language": "python",
   "name": "python3"
  },
  "language_info": {
   "codemirror_mode": {
    "name": "ipython",
    "version": 3
   },
   "file_extension": ".py",
   "mimetype": "text/x-python",
   "name": "python",
   "nbconvert_exporter": "python",
   "pygments_lexer": "ipython3",
   "version": "3.11.8"
  }
 },
 "nbformat": 4,
 "nbformat_minor": 4
}

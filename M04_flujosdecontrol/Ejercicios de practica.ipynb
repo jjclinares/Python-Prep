{
 "cells": [
  {
   "cell_type": "code",
   "execution_count": 2,
   "metadata": {},
   "outputs": [],
   "source": [
    "a = 5\n",
    "b = 7"
   ]
  },
  {
   "cell_type": "code",
   "execution_count": 4,
   "metadata": {},
   "outputs": [
    {
     "name": "stdout",
     "output_type": "stream",
     "text": [
      "A es menor que B\n"
     ]
    }
   ],
   "source": [
    "if a < b:\n",
    "    print('A es menor que B')\n",
    "elif a > b:\n",
    "    print('A es mayor que B')\n",
    "else:\n",
    "    print ('A es igual a B')\n"
   ]
  },
  {
   "cell_type": "code",
   "execution_count": 8,
   "metadata": {},
   "outputs": [
    {
     "name": "stdout",
     "output_type": "stream",
     "text": [
      "Soy menor\n"
     ]
    }
   ],
   "source": [
    "num = 5\n",
    "if num > 10:\n",
    "    print('Soy mayor')\n",
    "elif num < 10:\n",
    "    print('Soy menor')\n",
    "else:\n",
    "    print ('soy igual')"
   ]
  },
  {
   "cell_type": "code",
   "execution_count": 9,
   "metadata": {},
   "outputs": [
    {
     "name": "stdout",
     "output_type": "stream",
     "text": [
      "Soy menor que diez y como estoy primero me voy a ejecutar\n"
     ]
    }
   ],
   "source": [
    "num = 5\n",
    "if num > 10:\n",
    "    print('Soy mayor')\n",
    "elif num < 10:\n",
    "    print('Soy menor que diez y como estoy primero me voy a ejecutar')\n",
    "elif num < 10:\n",
    "    print('Soy tambíen menor ')   #No se ejecuta por que una ves encuentra el primer verdadero no continua el resto de ejecución.\n",
    "else:\n",
    "    print ('soy igual')"
   ]
  }
 ],
 "metadata": {
  "kernelspec": {
   "display_name": "Python 3",
   "language": "python",
   "name": "python3"
  },
  "language_info": {
   "codemirror_mode": {
    "name": "ipython",
    "version": 3
   },
   "file_extension": ".py",
   "mimetype": "text/x-python",
   "name": "python",
   "nbconvert_exporter": "python",
   "pygments_lexer": "ipython3",
   "version": "3.11.8"
  }
 },
 "nbformat": 4,
 "nbformat_minor": 2
}

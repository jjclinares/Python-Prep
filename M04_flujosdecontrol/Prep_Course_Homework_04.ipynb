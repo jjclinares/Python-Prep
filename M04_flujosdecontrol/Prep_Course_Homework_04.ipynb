{
 "cells": [
  {
   "attachments": {},
   "cell_type": "markdown",
   "metadata": {},
   "source": [
    "## Flujos de Control"
   ]
  },
  {
   "attachments": {},
   "cell_type": "markdown",
   "metadata": {},
   "source": [
    "1) Crear una variable que contenga un elemento del conjunto de números enteros y luego imprimir por pantalla si es mayor o menor a cero"
   ]
  },
  {
   "cell_type": "code",
   "execution_count": 1,
   "metadata": {},
   "outputs": [
    {
     "name": "stdout",
     "output_type": "stream",
     "text": [
      "Valor menor a cero\n"
     ]
    }
   ],
   "source": [
    "var_1 = -7\n",
    "if var_1 > 0:\n",
    "    print('Valor mayor a cero')\n",
    "elif var_1 < 0:\n",
    "    print('Valor menor a cero')\n",
    "else:\n",
    "    print('Valor igual a cero')"
   ]
  },
  {
   "attachments": {},
   "cell_type": "markdown",
   "metadata": {},
   "source": [
    "2) Crear dos variables y un condicional que informe si son del mismo tipo de dato"
   ]
  },
  {
   "cell_type": "code",
   "execution_count": 2,
   "metadata": {},
   "outputs": [
    {
     "name": "stdout",
     "output_type": "stream",
     "text": [
      "Variables son de diferente tipo de Dato\n"
     ]
    }
   ],
   "source": [
    "var_2 = '5'\n",
    "if var_1 == var_2:\n",
    "    print('Variables son del mismo tipo de Dato')\n",
    "else:\n",
    "    print('Variables son de diferente tipo de Dato')"
   ]
  },
  {
   "attachments": {},
   "cell_type": "markdown",
   "metadata": {},
   "source": [
    "3) Para los valores enteros del 1 al 20, imprimir por pantalla si es par o impar"
   ]
  },
  {
   "cell_type": "code",
   "execution_count": 5,
   "metadata": {},
   "outputs": [
    {
     "name": "stdout",
     "output_type": "stream",
     "text": [
      "valor es impar 1\n",
      "valor es par   2\n",
      "valor es impar 3\n",
      "valor es par   4\n",
      "valor es impar 5\n",
      "valor es par   6\n",
      "valor es impar 7\n",
      "valor es par   8\n",
      "valor es impar 9\n",
      "valor es par   10\n",
      "valor es impar 11\n",
      "valor es par   12\n",
      "valor es impar 13\n",
      "valor es par   14\n",
      "valor es impar 15\n",
      "valor es par   16\n",
      "valor es impar 17\n",
      "valor es par   18\n",
      "valor es impar 19\n",
      "valor es par   20\n"
     ]
    }
   ],
   "source": [
    "num = 1\n",
    "while num <= 20:\n",
    "    if num % 2 == 0:\n",
    "        print('valor es par  ',num)\n",
    "    else:\n",
    "        print('valor es impar',num)\n",
    "    num =num + 1"
   ]
  },
  {
   "attachments": {},
   "cell_type": "markdown",
   "metadata": {},
   "source": [
    "4) En un ciclo for mostrar para los valores entre 0 y 5 el resultado de elevarlo a la potencia igual a 3"
   ]
  },
  {
   "cell_type": "code",
   "execution_count": 14,
   "metadata": {},
   "outputs": [
    {
     "name": "stdout",
     "output_type": "stream",
     "text": [
      "0 elevado a la 3ra potencia es igual a 0 \n",
      "1 elevado a la 3ra potencia es igual a 1 \n",
      "2 elevado a la 3ra potencia es igual a 8 \n",
      "3 elevado a la 3ra potencia es igual a 27 \n",
      "4 elevado a la 3ra potencia es igual a 64 \n",
      "5 elevado a la 3ra potencia es igual a 125 \n"
     ]
    }
   ],
   "source": [
    "for ciclo in range(0,6):\n",
    "    valor = ciclo ** 3\n",
    "    print(f'{ciclo} elevado a la 3ra potencia es igual a {valor} ')"
   ]
  },
  {
   "attachments": {},
   "cell_type": "markdown",
   "metadata": {},
   "source": [
    "5) Crear una variable que contenga un número entero y realizar un ciclo for la misma cantidad de ciclos"
   ]
  },
  {
   "cell_type": "code",
   "execution_count": 16,
   "metadata": {},
   "outputs": [
    {
     "name": "stdout",
     "output_type": "stream",
     "text": [
      "0\n",
      "1\n",
      "2\n",
      "3\n",
      "4\n",
      "5\n",
      "6\n",
      "7\n",
      "8\n"
     ]
    }
   ],
   "source": [
    "var_3 = 9\n",
    "for var_4 in range(0,var_3):\n",
    "    print(var_4)\n",
    "    var_4 =var_4 + 1"
   ]
  },
  {
   "attachments": {},
   "cell_type": "markdown",
   "metadata": {},
   "source": [
    "6) Utilizar un ciclo while para realizar el factorial de un número guardado en una variable, sólo si la variable contiene un número entero mayor a 0"
   ]
  },
  {
   "cell_type": "code",
   "execution_count": 53,
   "metadata": {},
   "outputs": [
    {
     "name": "stdout",
     "output_type": "stream",
     "text": [
      "El factorial de 7 es 5040\n"
     ]
    }
   ],
   "source": [
    "var_5 = 7\n",
    "if type(var_5) == int and var_5 > 0:\n",
    "    if var_5 == 0:\n",
    "        total = 1\n",
    "    else:\n",
    "        total = 1\n",
    "        siguiente = var_5\n",
    "        while siguiente > 0:\n",
    "             total *= siguiente\n",
    "             siguiente -= 1\n",
    "    print(\"El factorial de\", var_5, \"es\", total)\n",
    "else:\n",
    "    print(\"La variable no contiene un número entero mayor a 0\")"
   ]
  },
  {
   "attachments": {},
   "cell_type": "markdown",
   "metadata": {},
   "source": [
    "7) Crear un ciclo for dentro de un ciclo while"
   ]
  },
  {
   "cell_type": "code",
   "execution_count": 58,
   "metadata": {},
   "outputs": [
    {
     "name": "stdout",
     "output_type": "stream",
     "text": [
      "Ciclo while es igual a  5\n",
      "Ciclo for es igual a  10\n",
      "Ciclo for es igual a  11\n",
      "Ciclo for es igual a  12\n"
     ]
    }
   ],
   "source": [
    "var_6 = 5\n",
    "while var_6 >= 0:\n",
    "    print('Ciclo while es igual a ',var_6)\n",
    "    for var_7 in range(var_6,8):\n",
    "        suma = var_6 + var_7\n",
    "        print('Ciclo for es igual a ',suma)\n",
    "    var_6 = -1    #Decidi usar en cada interación un menos uno para evitar bucle."
   ]
  },
  {
   "attachments": {},
   "cell_type": "markdown",
   "metadata": {},
   "source": [
    "8) Crear un ciclo while dentro de un ciclo for"
   ]
  },
  {
   "cell_type": "code",
   "execution_count": 85,
   "metadata": {},
   "outputs": [
    {
     "name": "stdout",
     "output_type": "stream",
     "text": [
      "valor de for es  1\n",
      "Valor de interacción interna  0\n",
      "Valor de interacción interna  1\n",
      "Valor de interacción interna  2\n",
      "valor de for es  2\n",
      "Valor de interacción interna  0\n",
      "Valor de interacción interna  1\n",
      "Valor de interacción interna  2\n",
      "valor de for es  3\n",
      "Valor de interacción interna  0\n",
      "Valor de interacción interna  1\n",
      "Valor de interacción interna  2\n"
     ]
    }
   ],
   "source": [
    "for i in range(1,4):\n",
    "    print('valor de for es ',i)\n",
    "    suma = 0\n",
    "    while suma <= 2:\n",
    "        print('Valor de interacción interna ',suma)\n",
    "        suma +=1"
   ]
  },
  {
   "attachments": {},
   "cell_type": "markdown",
   "metadata": {},
   "source": [
    "9) Imprimir los números primos existentes entre 0 y 30"
   ]
  },
  {
   "cell_type": "code",
   "execution_count": 119,
   "metadata": {},
   "outputs": [
    {
     "name": "stdout",
     "output_type": "stream",
     "text": [
      "2\n",
      "3\n",
      "5\n",
      "7\n",
      "11\n",
      "13\n",
      "17\n",
      "19\n",
      "23\n",
      "29\n"
     ]
    }
   ],
   "source": [
    "for num in range(2,31):  #Asignación de rango en valores que sean de rango primos.\n",
    "    primo=True           \n",
    "    for var_8 in range(2, int(num ** 0.5) + 1):          #creando la variable var_8 en el rango de calculo primo potenciado a 0.5 + 1\n",
    "        if num % var_8 == 0:                           #si la diferencia de el rango y esta variable es gual a 0\n",
    "            primo=False                              \n",
    "            break                                     #saltar bucle\n",
    "    if primo:\n",
    "        print(num)"
   ]
  },
  {
   "attachments": {},
   "cell_type": "markdown",
   "metadata": {},
   "source": [
    "10) ¿Se puede mejorar el proceso del punto 9? Utilizar las sentencias break y/ó continue para tal fin"
   ]
  },
  {
   "cell_type": "code",
   "execution_count": 120,
   "metadata": {},
   "outputs": [
    {
     "name": "stdout",
     "output_type": "stream",
     "text": [
      "2\n",
      "3\n",
      "5\n",
      "7\n",
      "11\n",
      "13\n",
      "17\n",
      "19\n",
      "23\n",
      "29\n"
     ]
    }
   ],
   "source": [
    "#sí se puede mejorar o acortar al proceso ,retirando primo=false y colocando else\n",
    "for num in range(2,31):\n",
    "    primo= True\n",
    "    for var_8 in range (2,int(num ** 0.5)+ 1):\n",
    "        if num % var_8 == 0:\n",
    "            break\n",
    "    else:\n",
    "        print(num)"
   ]
  },
  {
   "attachments": {},
   "cell_type": "markdown",
   "metadata": {},
   "source": [
    "11) En los puntos 9 y 10, se diseño un código que encuentra números primos y además se lo optimizó. ¿Es posible saber en qué medida se optimizó?"
   ]
  },
  {
   "cell_type": "code",
   "execution_count": null,
   "metadata": {},
   "outputs": [],
   "source": [
    "#sí se puede mejorar o acortar al proceso ,retirando primo=false y colocando else,esto permitio retirar una verificación adicional y culminar el ciclo for."
   ]
  },
  {
   "attachments": {},
   "cell_type": "markdown",
   "metadata": {},
   "source": [
    "12) Aplicando continue, armar un ciclo while que solo imprima los valores divisibles por 12, dentro del rango de números de 100 a 300"
   ]
  },
  {
   "cell_type": "code",
   "execution_count": 122,
   "metadata": {},
   "outputs": [
    {
     "name": "stdout",
     "output_type": "stream",
     "text": [
      "108\n",
      "120\n",
      "132\n",
      "144\n",
      "156\n",
      "168\n",
      "180\n",
      "192\n",
      "204\n",
      "216\n",
      "228\n",
      "240\n",
      "252\n",
      "264\n",
      "276\n",
      "288\n",
      "300\n"
     ]
    }
   ],
   "source": [
    "num2 = 100\n",
    "while num2 <=300:\n",
    "    if(num2 % 12!= 0):\n",
    "        num2 += 1\n",
    "        continue    #Salta bucle de numeros no divisibles.\n",
    "    print(num2)\n",
    "    num2 += 1"
   ]
  },
  {
   "attachments": {},
   "cell_type": "markdown",
   "metadata": {},
   "source": [
    "13) Utilizar la función **input()** que permite hacer ingresos por teclado, para encontrar números primos y dar la opción al usuario de buscar el siguiente."
   ]
  },
  {
   "cell_type": "code",
   "execution_count": null,
   "metadata": {},
   "outputs": [],
   "source": []
  },
  {
   "attachments": {},
   "cell_type": "markdown",
   "metadata": {},
   "source": [
    "14) Crear un ciclo while que encuentre dentro del rango de 100 a 300 el primer número divisible por 3 y además múltiplo de 6"
   ]
  },
  {
   "cell_type": "code",
   "execution_count": 125,
   "metadata": {},
   "outputs": [
    {
     "name": "stdout",
     "output_type": "stream",
     "text": [
      "El primer número divisible por 3 y múltiplo de 6 en el rango de 100 a 300 es: 102\n"
     ]
    }
   ],
   "source": [
    "num3 = 100\n",
    "while num3 <= 300:\n",
    "    if num3 % 3 == 0 and num3 % 3 == 0:\n",
    "       print('El primer número divisible por 3 y múltiplo de 6 en el rango de 100 a 300 es:',num3)\n",
    "       break\n",
    "    num3 +=1"
   ]
  }
 ],
 "metadata": {
  "interpreter": {
   "hash": "c85384e4cb51c8b72350f3a8712cc8351fdc3955e32a27f9b60c6242ab125f01"
  },
  "kernelspec": {
   "display_name": "Python 3 (ipykernel)",
   "language": "python",
   "name": "python3"
  },
  "language_info": {
   "codemirror_mode": {
    "name": "ipython",
    "version": 3
   },
   "file_extension": ".py",
   "mimetype": "text/x-python",
   "name": "python",
   "nbconvert_exporter": "python",
   "pygments_lexer": "ipython3",
   "version": "3.11.8"
  }
 },
 "nbformat": 4,
 "nbformat_minor": 4
}

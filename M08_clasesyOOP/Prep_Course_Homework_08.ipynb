{
 "cells": [
  {
   "attachments": {},
   "cell_type": "markdown",
   "metadata": {},
   "source": [
    "## Clases y Programación Orientada a Objetos"
   ]
  },
  {
   "attachments": {},
   "cell_type": "markdown",
   "metadata": {},
   "source": [
    "1) Crear la clase vehículo que contenga los atributos:<br>\n",
    "Color<br>\n",
    "Si es moto, auto, camioneta ó camión<br>\n",
    "Cilindrada del motor"
   ]
  },
  {
   "cell_type": "code",
   "execution_count": 72,
   "metadata": {},
   "outputs": [],
   "source": [
    "class Vehiculo:\n",
    "    def __init__(self,Color,Tipo,Cilindrada):\n",
    "        self.Color=Color\n",
    "        self.Tipo =Tipo\n",
    "        self.Cilindrada=Cilindrada"
   ]
  },
  {
   "attachments": {},
   "cell_type": "markdown",
   "metadata": {},
   "source": [
    "2) A la clase Vehiculo creada en el punto 1, agregar los siguientes métodos:<br>\n",
    "Acelerar<br>\n",
    "Frenar<br>\n",
    "Doblar<br>"
   ]
  },
  {
   "cell_type": "code",
   "execution_count": 73,
   "metadata": {},
   "outputs": [],
   "source": [
    "class Vehiculo:\n",
    "    def __init__(self,Color,Tipo,Cilindrada):\n",
    "        self.Color=Color\n",
    "        self.Tipo =Tipo\n",
    "        self.Cilindrada=Cilindrada\n",
    "        self.Velocidad = 0\n",
    "        self.Dirección =\"Recto\"\n",
    "        \n",
    "    def Acelerar(self,Velocidad):\n",
    "        self.Velocidad += Velocidad\n",
    "        print(\"Acelerando a\", Velocidad, \"km/h\")\n",
    "\n",
    "    def Frenar(self,Velocidad):\n",
    "        self.Velocidad -= Velocidad\n",
    "        print(\"Frenando a\", Velocidad, \"km/h\")\n",
    "\n",
    "    def Doblar(self,Dirección):\n",
    "        self.Dirección = Dirección\n",
    "        print(\"Girando hacia la \" ,Dirección)\n",
    "        "
   ]
  },
  {
   "attachments": {},
   "cell_type": "markdown",
   "metadata": {},
   "source": [
    "3) Instanciar 3 objetos de la clase vehículo y ejecutar sus métodos, probar luego el resultado"
   ]
  },
  {
   "cell_type": "code",
   "execution_count": 74,
   "metadata": {},
   "outputs": [
    {
     "name": "stdout",
     "output_type": "stream",
     "text": [
      "Camión\n",
      "Moto\n",
      "Auto\n"
     ]
    }
   ],
   "source": [
    "a1 = Vehiculo(\"Gris Galapago\",\"Camión\",1800)\n",
    "a2 = Vehiculo(\"Blanco Perla\",\"Moto\",1200)\n",
    "a3 = Vehiculo(\"Amarillo\",\"Auto\",1600)\n",
    "\n",
    "print(a1.Tipo)\n",
    "print(a2.Tipo)\n",
    "print(a3.Tipo)"
   ]
  },
  {
   "cell_type": "code",
   "execution_count": 75,
   "metadata": {},
   "outputs": [
    {
     "name": "stdout",
     "output_type": "stream",
     "text": [
      "Acelerando a 83 km/h\n",
      "Frenando a 35 km/h\n",
      "Acelerando a 5 km/h\n",
      "Frenando a 50 km/h\n",
      "Frenando a 60 km/h\n",
      "Acelerando a 12 km/h\n"
     ]
    }
   ],
   "source": [
    "a1.Acelerar(83)\n",
    "a1.Frenar(35)\n",
    "\n",
    "a2.Acelerar(5)\n",
    "a2.Frenar(50)\n",
    "\n",
    "a3.Frenar(60)\n",
    "a3.Acelerar(12)\n"
   ]
  },
  {
   "attachments": {},
   "cell_type": "markdown",
   "metadata": {},
   "source": [
    "4) Agregar a la clase Vehiculo, un método que muestre su estado, es decir, a que velocidad se encuentra y su dirección. Y otro método que muestre color, tipo y cilindrada"
   ]
  },
  {
   "cell_type": "code",
   "execution_count": 76,
   "metadata": {},
   "outputs": [],
   "source": [
    "class Vehiculo:\n",
    "    def __init__(self,Color,Tipo,Cilindrada):\n",
    "        self.Color=Color\n",
    "        self.Tipo =Tipo\n",
    "        self.Cilindrada=Cilindrada\n",
    "        self.Velocidad = 0\n",
    "        self.Dirección =\"Recto\"\n",
    "        \n",
    "    def Acelerar(self,Velocidad):\n",
    "        self.Velocidad += Velocidad\n",
    "        print(\"Acelerando a\", Velocidad, \"km/h\")\n",
    "\n",
    "    def Frenar(self,Velocidad):\n",
    "        self.Velocidad -= Velocidad\n",
    "        print(\"Frenando a\", Velocidad, \"km/h\")\n",
    "\n",
    "    def Doblar(self,Dirección):\n",
    "        self.Dirección = Dirección\n",
    "        print(\"Girando hacia la \" ,Dirección)\n",
    "\n",
    "    def Estado(self):\n",
    "        print(\"La Velocidad actual del Vehiculo\",self.Velocidad,\"y va \",self.Dirección)\n",
    "\n",
    "    def Presentación(self):\n",
    "        print(\"Soy un Vehiculo color \",self.Color,\" Tipo: \",self.Tipo,\"y tengo una Cilindrada de :\",self.Cilindrada,\" CC\")\n",
    "    "
   ]
  },
  {
   "cell_type": "code",
   "execution_count": 77,
   "metadata": {},
   "outputs": [
    {
     "name": "stdout",
     "output_type": "stream",
     "text": [
      "Soy un Vehiculo color  Gris Galapago  Tipo:  Camión y tengo una Cilindrada de : 1800  CC\n"
     ]
    }
   ],
   "source": [
    "a1 = Vehiculo(\"Gris Galapago\",\"Camión\",1800)\n",
    "a1.Presentación()"
   ]
  },
  {
   "cell_type": "code",
   "execution_count": 78,
   "metadata": {},
   "outputs": [
    {
     "name": "stdout",
     "output_type": "stream",
     "text": [
      "La Velocidad actual del Vehiculo 0 y va  Recto\n",
      "Acelerando a 30 km/h\n",
      "Girando hacia la  Derecha\n",
      "La Velocidad actual del Vehiculo 30 y va  Derecha\n"
     ]
    }
   ],
   "source": [
    "a1.Estado()\n",
    "a1.Acelerar(30)\n",
    "a1.Doblar(\"Derecha\")\n",
    "a1.Estado()"
   ]
  },
  {
   "attachments": {},
   "cell_type": "markdown",
   "metadata": {},
   "source": [
    "5) Crear una clase que permita utilizar las funciones creadas en la práctica del módulo 7<br>\n",
    "Verificar Primo<br>\n",
    "Valor modal<br>\n",
    "Conversión grados<br>\n",
    "Factorial<br>"
   ]
  },
  {
   "cell_type": "code",
   "execution_count": 79,
   "metadata": {},
   "outputs": [],
   "source": [
    "class Funciónes:\n",
    "    def __init__(self) -> None:\n",
    "        pass\n",
    "#Definir si es valor Primo\n",
    "    def verificar_primo(self,numero):\n",
    "        es_primo =True\n",
    "        for i in range(2,numero):\n",
    "            if numero % i == 0:\n",
    "                es_primo =False\n",
    "                break\n",
    "        return es_primo\n",
    "\n",
    "#Definir la moda \n",
    "    def moda(self,lista):\n",
    "        frecuencia = {}\n",
    "        for n in lista:\n",
    "            if n in frecuencia:\n",
    "                frecuencia[n]+=1\n",
    "            else:\n",
    "                frecuencia[n]=1\n",
    "        max_repeticiones = max( frecuencia.values())\n",
    "        mas_repetidos =[n for n ,repeticiones in frecuencia.items() if repeticiones == max_repeticiones]\n",
    "        return mas_repetidos[0],max_repeticiones\n",
    "\n",
    "#Conversión de grados Celsius,Farenhein,Kelvin\n",
    "    \n",
    "    def Conversión_de_grados(self,Valor,Origen,destino):\n",
    "        if Origen == \"Celsius\":\n",
    "            if destino == \"Celsius\":\n",
    "                valor_destino = Valor\n",
    "            elif destino == \"Farenheit\":\n",
    "                valor_destino = (Valor * 9/5)+ 32\n",
    "            elif destino == \"Kelvin\":\n",
    "                valor_destino = (Valor + 273.15)\n",
    "            else:\n",
    "                print('Parámetro de Destino incorrecto')\n",
    "        elif Origen == \"Farenheit\":\n",
    "            if destino == \"Celsius\":\n",
    "                valor_destino = (Valor - 32)* 5/9\n",
    "            elif destino == \"Farenheit\":\n",
    "                valor_destino = Valor \n",
    "            elif destino == \"Kelvin\":\n",
    "                valor_destino = ((Valor -32)* 5/9) +273.15\n",
    "            else:\n",
    "                print('Parámetro de Destino incorrecto')\n",
    "        elif Origen == \"Kelvin\":\n",
    "            if destino == \"Celsius\":\n",
    "                valor_destino = Valor -273.15\n",
    "            elif destino == \"Farenheit\":\n",
    "                valor_destino = ((Valor - 273.15)*9/5)+32 \n",
    "            elif destino == \"Kelvin\":\n",
    "                valor_destino = Valor\n",
    "            else:\n",
    "                print('Parámetro de Destino incorrecto')\n",
    "        else:\n",
    "            print(f\"El dato proporcionado no es una medida de Temperatura valida\")\n",
    "        return(valor_destino)\n",
    "    \n",
    "    #Factorial \n",
    "    def factorial(self, numero):\n",
    "        if(type(numero) != int):\n",
    "            return 'El numero debe ser un entero'\n",
    "        if(numero < 0):\n",
    "            return 'El numero debe ser pisitivo'\n",
    "        if (numero > 1):\n",
    "            numero = numero * self.factorial(numero - 1)\n",
    "        return numero"
   ]
  },
  {
   "attachments": {},
   "cell_type": "markdown",
   "metadata": {},
   "source": [
    "6) Probar las funciones incorporadas en la clase del punto 5"
   ]
  },
  {
   "cell_type": "code",
   "execution_count": 80,
   "metadata": {},
   "outputs": [],
   "source": [
    "Herramientas = Funciónes()\n"
   ]
  },
  {
   "cell_type": "code",
   "execution_count": 81,
   "metadata": {},
   "outputs": [
    {
     "data": {
      "text/plain": [
       "True"
      ]
     },
     "execution_count": 81,
     "metadata": {},
     "output_type": "execute_result"
    }
   ],
   "source": [
    "Herramientas.verificar_primo(17)"
   ]
  },
  {
   "cell_type": "code",
   "execution_count": 82,
   "metadata": {},
   "outputs": [
    {
     "name": "stdout",
     "output_type": "stream",
     "text": [
      "La moda es:  1 y se repite 3  veces\n"
     ]
    }
   ],
   "source": [
    "lista2 = [1,1, 1 , 2 , 3, 4, 5, 6, 7, 8, 9, 10]\n",
    "probar, moda=Herramientas.moda(lista2)\n",
    "print(f\"La moda es: \",probar ,\"y se repite\",moda,\" veces\")"
   ]
  },
  {
   "cell_type": "code",
   "execution_count": 83,
   "metadata": {},
   "outputs": [
    {
     "data": {
      "text/plain": [
       "120"
      ]
     },
     "execution_count": 83,
     "metadata": {},
     "output_type": "execute_result"
    }
   ],
   "source": [
    "Herramientas.factorial(5)"
   ]
  },
  {
   "cell_type": "code",
   "execution_count": 84,
   "metadata": {},
   "outputs": [
    {
     "data": {
      "text/plain": [
       "59.0"
      ]
     },
     "execution_count": 84,
     "metadata": {},
     "output_type": "execute_result"
    }
   ],
   "source": [
    "Herramientas.Conversión_de_grados(15,\"Celsius\",\"Farenheit\")"
   ]
  },
  {
   "attachments": {},
   "cell_type": "markdown",
   "metadata": {},
   "source": [
    "7) Es necesario que la clase creada en el punto 5 contenga una lista, sobre la cual se apliquen las funciones incorporadas"
   ]
  },
  {
   "cell_type": "code",
   "execution_count": 85,
   "metadata": {},
   "outputs": [],
   "source": [
    "class Funciónes:\n",
    "    def __init__(self,lista):\n",
    "        self.lista=lista\n",
    "#Definir si es valor Primo\n",
    "    def verificar_primo(self,numero):\n",
    "        es_primo =True\n",
    "        for i in range(2,numero):\n",
    "            if numero % i == 0:\n",
    "                es_primo =False\n",
    "                break\n",
    "        return es_primo\n",
    "\n",
    "#Definir la moda \n",
    "    def moda(self,lista):\n",
    "        frecuencia = {}\n",
    "        for n in lista:\n",
    "            if n in frecuencia:\n",
    "                frecuencia[n]+=1\n",
    "            else:\n",
    "                frecuencia[n]=1\n",
    "        max_repeticiones = max( frecuencia.values())\n",
    "        mas_repetidos =[n for n ,repeticiones in frecuencia.items() if repeticiones == max_repeticiones]\n",
    "        return mas_repetidos[0],max_repeticiones\n",
    "\n",
    "#Conversión de grados Celsius,Farenhein,Kelvin\n",
    "    \n",
    "    def Conversión_de_grados(self,Valor,Origen,destino):\n",
    "        if Origen == \"Celsius\":\n",
    "            if destino == \"Celsius\":\n",
    "                valor_destino = Valor\n",
    "            elif destino == \"Farenheit\":\n",
    "                valor_destino = (Valor * 9/5)+ 32\n",
    "            elif destino == \"Kelvin\":\n",
    "                valor_destino = (Valor + 273.15)\n",
    "            else:\n",
    "                print('Parámetro de Destino incorrecto')\n",
    "        elif Origen == \"Farenheit\":\n",
    "            if destino == \"Celsius\":\n",
    "                valor_destino = (Valor - 32)* 5/9\n",
    "            elif destino == \"Farenheit\":\n",
    "                valor_destino = Valor \n",
    "            elif destino == \"Kelvin\":\n",
    "                valor_destino = ((Valor -32)* 5/9) +273.15\n",
    "            else:\n",
    "                print('Parámetro de Destino incorrecto')\n",
    "        elif Origen == \"Kelvin\":\n",
    "            if destino == \"Celsius\":\n",
    "                valor_destino = Valor -273.15\n",
    "            elif destino == \"Farenheit\":\n",
    "                valor_destino = ((Valor - 273.15)*9/5)+32 \n",
    "            elif destino == \"Kelvin\":\n",
    "                valor_destino = Valor\n",
    "            else:\n",
    "                print('Parámetro de Destino incorrecto')\n",
    "        else:\n",
    "            print(f\"El dato proporcionado no es una medida de Temperatura valida\")\n",
    "        return(valor_destino)\n",
    "    \n",
    "    #Factorial \n",
    "    def factorial(self, numero):\n",
    "        if(type(numero) != int):\n",
    "            return 'El numero debe ser un entero'\n",
    "        if(numero < 0):\n",
    "            return 'El numero debe ser pisitivo'\n",
    "        if (numero > 1):\n",
    "            numero = numero * self.factorial(numero - 1)\n",
    "        return numero"
   ]
  },
  {
   "attachments": {},
   "cell_type": "markdown",
   "metadata": {},
   "source": [
    "8) Crear un archivo .py aparte y ubicar allí la clase generada en el punto anterior. Luego realizar la importación del módulo y probar alguna de sus funciones"
   ]
  },
  {
   "cell_type": "code",
   "execution_count": 95,
   "metadata": {},
   "outputs": [],
   "source": [
    "from Puntoprueba import*"
   ]
  },
  {
   "cell_type": "code",
   "execution_count": 96,
   "metadata": {},
   "outputs": [],
   "source": [
    "h2=Funciónes()"
   ]
  },
  {
   "cell_type": "code",
   "execution_count": 97,
   "metadata": {},
   "outputs": [
    {
     "data": {
      "text/plain": [
       "120"
      ]
     },
     "execution_count": 97,
     "metadata": {},
     "output_type": "execute_result"
    }
   ],
   "source": [
    "h2.factorial(5)"
   ]
  },
  {
   "cell_type": "code",
   "execution_count": 100,
   "metadata": {},
   "outputs": [
    {
     "data": {
      "text/plain": [
       "41.0"
      ]
     },
     "execution_count": 100,
     "metadata": {},
     "output_type": "execute_result"
    }
   ],
   "source": [
    "h2.Conversión_de_grados(5,\"Celsius\",\"Farenheit\")"
   ]
  }
 ],
 "metadata": {
  "interpreter": {
   "hash": "c85384e4cb51c8b72350f3a8712cc8351fdc3955e32a27f9b60c6242ab125f01"
  },
  "kernelspec": {
   "display_name": "Python 3 (ipykernel)",
   "language": "python",
   "name": "python3"
  },
  "language_info": {
   "codemirror_mode": {
    "name": "ipython",
    "version": 3
   },
   "file_extension": ".py",
   "mimetype": "text/x-python",
   "name": "python",
   "nbconvert_exporter": "python",
   "pygments_lexer": "ipython3",
   "version": "3.11.8"
  }
 },
 "nbformat": 4,
 "nbformat_minor": 4
}
